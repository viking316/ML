{
  "nbformat": 4,
  "nbformat_minor": 0,
  "metadata": {
    "colab": {
      "provenance": [],
      "authorship_tag": "ABX9TyPUv/b7zfzkEWvtDXD62dFt",
      "include_colab_link": true
    },
    "kernelspec": {
      "name": "python3",
      "display_name": "Python 3"
    },
    "language_info": {
      "name": "python"
    }
  },
  "cells": [
    {
      "cell_type": "markdown",
      "metadata": {
        "id": "view-in-github",
        "colab_type": "text"
      },
      "source": [
        "<a href=\"https://colab.research.google.com/github/viking316/ML/blob/main/final_CrossValidation.ipynb\" target=\"_parent\"><img src=\"https://colab.research.google.com/assets/colab-badge.svg\" alt=\"Open In Colab\"/></a>"
      ]
    },
    {
      "cell_type": "code",
      "execution_count": 12,
      "metadata": {
        "colab": {
          "base_uri": "https://localhost:8080/"
        },
        "id": "uQtjuzV2YzNL",
        "outputId": "954ed0d3-1154-4593-817f-f5a0d20c731a"
      },
      "outputs": [
        {
          "output_type": "stream",
          "name": "stdout",
          "text": [
            "(569, 30)\n",
            "(569,)\n",
            "HoldOutValidation: \n",
            " 0.916083916083916\n",
            "\n",
            " K-Fold cross: \n",
            " [0.9122807  0.9122807  0.89473684 0.94736842 0.87719298 0.98245614\n",
            " 0.89473684 0.98245614 0.94736842 0.94642857]\n",
            "\n",
            " Mean of K-fold cross: \n",
            " 0.9297305764411027\n",
            "\n",
            " Mean of LeaveOneOutValidation: \n",
            " 0.929701230228471\n"
          ]
        }
      ],
      "source": [
        "import numpy as np\n",
        "import pandas as pd\n",
        "from sklearn.tree import DecisionTreeClassifier\n",
        "# from sklearn.model_selection import train_test_split\n",
        "# from sklearn.model_selection import KFold\n",
        "# from sklearn.model_selection import cross_val_score\n",
        "# from sklearn.model_selection import LeaveOneOut\n",
        "from sklearn.model_selection import *\n",
        "\n",
        "df = pd.read_csv(\"Cancer_data.csv\")\n",
        "x = df.iloc[:, 2:]\n",
        "y = df.iloc[:,1]\n",
        "x = x.dropna(axis = 1)\n",
        "# y = y.dropna(axis=1)\n",
        "\n",
        "print(x.shape)\n",
        "print(y.shape)\n",
        "\n",
        "x_train, x_test, y_train, y_test = train_test_split(x,y)\n",
        "model = DecisionTreeClassifier()\n",
        "model.fit(x_train, y_train)\n",
        "result = model.score(x_test, y_test)\n",
        "print(\"HoldOutValidation: \\n\",result)\n",
        "\n",
        "kf = KFold(10)\n",
        "results2 = cross_val_score(model, x, y, cv = kf)\n",
        "print(\"\\n K-Fold cross: \\n\",results2)\n",
        "print(\"\\n Mean of K-fold cross: \\n\", np.mean(results2))\n",
        "\n",
        "\n",
        "leave_validation = LeaveOneOut()\n",
        "result = cross_val_score(model,x,y,cv = leave_validation)\n",
        "print(\"\\n Mean of LeaveOneOutValidation: \\n\",np.mean(result))"
      ]
    }
  ]
}