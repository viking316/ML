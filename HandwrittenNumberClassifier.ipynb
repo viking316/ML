{
  "nbformat": 4,
  "nbformat_minor": 0,
  "metadata": {
    "colab": {
      "provenance": [],
      "include_colab_link": true
    },
    "kernelspec": {
      "name": "python3",
      "display_name": "Python 3"
    },
    "language_info": {
      "name": "python"
    },
    "accelerator": "TPU",
    "gpuClass": "standard"
  },
  "cells": [
    {
      "cell_type": "markdown",
      "metadata": {
        "id": "view-in-github",
        "colab_type": "text"
      },
      "source": [
        "<a href=\"https://colab.research.google.com/github/viking316/ML/blob/main/HandwrittenNumberClassifier.ipynb\" target=\"_parent\"><img src=\"https://colab.research.google.com/assets/colab-badge.svg\" alt=\"Open In Colab\"/></a>"
      ]
    },
    {
      "cell_type": "code",
      "execution_count": null,
      "metadata": {
        "colab": {
          "base_uri": "https://localhost:8080/"
        },
        "id": "eKWjbY4juroI",
        "outputId": "5ff492a0-5856-4bf2-843e-77a68a345c7f"
      },
      "outputs": [
        {
          "output_type": "stream",
          "name": "stdout",
          "text": [
            "Epoch 1/8\n",
            "1313/1313 [==============================] - 5s 4ms/step - loss: 1.9940 - accuracy: 0.8614\n",
            "Epoch 2/8\n",
            "1313/1313 [==============================] - 5s 3ms/step - loss: 0.4724 - accuracy: 0.9140\n",
            "Epoch 3/8\n",
            "1313/1313 [==============================] - 4s 3ms/step - loss: 0.3187 - accuracy: 0.9315\n",
            "Epoch 4/8\n",
            "1313/1313 [==============================] - 5s 4ms/step - loss: 0.2596 - accuracy: 0.9402\n",
            "Epoch 5/8\n",
            "1313/1313 [==============================] - 5s 4ms/step - loss: 0.2095 - accuracy: 0.9495\n",
            "Epoch 6/8\n",
            "1313/1313 [==============================] - 5s 4ms/step - loss: 0.1459 - accuracy: 0.9603\n",
            "Epoch 7/8\n",
            "1313/1313 [==============================] - 5s 4ms/step - loss: 0.1365 - accuracy: 0.9622\n",
            "Epoch 8/8\n",
            "1313/1313 [==============================] - 4s 3ms/step - loss: 0.1246 - accuracy: 0.9655\n"
          ]
        }
      ],
      "source": [
        "import os\n",
        "import numpy as np\n",
        "import cv2 \n",
        "import tensorflow as tf\n",
        "import matplotlib.pyplot as plt\n",
        "from sklearn.model_selection import  train_test_split\n",
        "\n",
        "ds = tf.keras.datasets.mnist\n",
        "\n",
        "# (X_train,Y_train),(X_test,Y_test) = ds.load_data()\n",
        "\n",
        "# X_train = tf.keras.utils.normalize(X_train, axis =1)\n",
        "# X_test = tf.keras.utils.normalize(X_test, axis =1)\n",
        "\n",
        "\n",
        "(x_train, y_train), (x_test, y_test) = ds.load_data()\n",
        "x = np.concatenate((x_train, x_test))\n",
        "y = np.concatenate((y_train, y_test))\n",
        "\n",
        "train_size = 0.6\n",
        "x_train, x_test, y_train, y_test = train_test_split(x, y, train_size=train_size)\n",
        "\n",
        "model = tf.keras.models.Sequential()\n",
        "model.add(tf.keras.layers.Flatten(input_shape = (28,28)))\n",
        "model.add(tf.keras.layers.Dense(128, activation = 'relu'))\n",
        "model.add(tf.keras.layers.Dense(128, activation = 'relu'))\n",
        "model.add(tf.keras.layers.Dense(10,activation = \"softmax\"))\n",
        "\n",
        "model.compile(optimizer = \"adam\", loss = \"sparse_categorical_crossentropy\", metrics = [\"accuracy\"])\n",
        "model.fit(x_train,y_train, epochs = 8)\n",
        "\n",
        "model.save(\"fingermodel\")\n"
      ]
    },
    {
      "cell_type": "markdown",
      "source": [
        "## *Loading the saved model and then predicting on the custom inputs*"
      ],
      "metadata": {
        "id": "bd4oWXPZHhX6"
      }
    },
    {
      "cell_type": "code",
      "source": [
        "\n",
        "\n",
        "model = tf.keras.models.load_model(\"fingermodel\")\n",
        "\n",
        "# loss , accuracy = model.evaluate(X_test,Y_test)\n",
        "\n",
        "# print(\"loss: \",loss,\"accu: \", accuracy)\n",
        "\n",
        "\n",
        "# ITERATING INPUT\n",
        "\n",
        "index = 0\n",
        "\n",
        "while os.path.isfile(f\"/content/Untitled{index}.jpg\"):\n",
        "  try:\n",
        "    img = cv2.imread(f\"/content/Untitled{index}.jpg\")[:,:,0]\n",
        "    img = np.invert(np.array([img]))\n",
        "\n",
        "    pred = model.predict(img)\n",
        "    # print(f\"the number is: {index}\\n prediced o/p:  {np.argmax(pred)}\")\n",
        "    print(f\"the num is:  {np.argmax(pred)}\")\n",
        "    plt.imshow(img[0], cmap = plt.cm.binary)\n",
        "    plt.show()\n",
        "    \n",
        "  except Exception:\n",
        "    print(Exception)\n",
        "  finally:\n",
        "    index += 1"
      ],
      "metadata": {
        "colab": {
          "base_uri": "https://localhost:8080/",
          "height": 1000
        },
        "id": "-VcEH0NDHYkS",
        "outputId": "6f11e425-ce68-4f25-f746-12588b95b7ef"
      },
      "execution_count": null,
      "outputs": [
        {
          "output_type": "stream",
          "name": "stdout",
          "text": [
            "1/1 [==============================] - 0s 52ms/step\n",
            "the num is:  2\n"
          ]
        },
        {
          "output_type": "display_data",
          "data": {
            "text/plain": [
              "<Figure size 432x288 with 1 Axes>"
            ],
            "image/png": "[encoded data removed]"
          },
          "metadata": {
            "needs_background": "light"
          }
        },
        {
          "output_type": "stream",
          "name": "stdout",
          "text": [
            "1/1 [==============================] - 0s 17ms/step\n",
            "the num is:  2\n"
          ]
        },
        {
          "output_type": "display_data",
          "data": {
            "text/plain": [
              "<Figure size 432x288 with 1 Axes>"
            ],
            "image/png": "[encoded data removed]"
          },
          "metadata": {
            "needs_background": "light"
          }
        },
        {
          "output_type": "stream",
          "name": "stdout",
          "text": [
            "1/1 [==============================] - 0s 17ms/step\n",
            "the num is:  7\n"
          ]
        },
        {
          "output_type": "display_data",
          "data": {
            "text/plain": [
              "<Figure size 432x288 with 1 Axes>"
            ],
            "image/png": "[encoded data removed]"
          },
          "metadata": {
            "needs_background": "light"
          }
        },
        {
          "output_type": "stream",
          "name": "stdout",
          "text": [
            "1/1 [==============================] - 0s 16ms/step\n",
            "the num is:  3\n"
          ]
        },
        {
          "output_type": "display_data",
          "data": {
            "text/plain": [
              "<Figure size 432x288 with 1 Axes>"
            ],
            "image/png": "[encoded data removed]"
          },
          "metadata": {
            "needs_background": "light"
          }
        },
        {
          "output_type": "stream",
          "name": "stdout",
          "text": [
            "1/1 [==============================] - 0s 16ms/step\n",
            "the num is:  8\n"
          ]
        },
        {
          "output_type": "display_data",
          "data": {
            "text/plain": [
              "<Figure size 432x288 with 1 Axes>"
            ],
            "image/png": "[encoded data removed]"
          },
          "metadata": {
            "needs_background": "light"
          }
        },
        {
          "output_type": "stream",
          "name": "stdout",
          "text": [
            "1/1 [==============================] - 0s 17ms/step\n",
            "the num is:  2\n"
          ]
        },
        {
          "output_type": "display_data",
          "data": {
            "text/plain": [
              "<Figure size 432x288 with 1 Axes>"
            ],
            "image/png": "[encoded data removed]"
          },
          "metadata": {
            "needs_background": "light"
          }
        },
        {
          "output_type": "stream",
          "name": "stdout",
          "text": [
            "1/1 [==============================] - 0s 17ms/step\n",
            "the num is:  4\n"
          ]
        },
        {
          "output_type": "display_data",
          "data": {
            "text/plain": [
              "<Figure size 432x288 with 1 Axes>"
            ],
            "image/png": "[encoded data removed]"
          },
          "metadata": {
            "needs_background": "light"
          }
        },
        {
          "output_type": "stream",
          "name": "stdout",
          "text": [
            "1/1 [==============================] - 0s 16ms/step\n",
            "the num is:  4\n"
          ]
        },
        {
          "output_type": "display_data",
          "data": {
            "text/plain": [
              "<Figure size 432x288 with 1 Axes>"
            ],
            "image/png": "[encoded data removed]"
          },
          "metadata": {
            "needs_background": "light"
          }
        },
        {
          "output_type": "stream",
          "name": "stdout",
          "text": [
            "1/1 [==============================] - 0s 17ms/step\n",
            "the num is:  4\n"
          ]
        },
        {
          "output_type": "display_data",
          "data": {
            "text/plain": [
              "<Figure size 432x288 with 1 Axes>"
            ],
            "image/png": "[encoded data removed]"
          },
          "metadata": {
            "needs_background": "light"
          }
        },
        {
          "output_type": "stream",
          "name": "stdout",
          "text": [
            "1/1 [==============================] - 0s 25ms/step\n",
            "the num is:  5\n"
          ]
        },
        {
          "output_type": "display_data",
          "data": {
            "text/plain": [
              "<Figure size 432x288 with 1 Axes>"
            ],
            "image/png": "[encoded data removed]"
          },
          "metadata": {
            "needs_background": "light"
          }
        }
      ]
    }
  ]
}