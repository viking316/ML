{
  "nbformat": 4,
  "nbformat_minor": 0,
  "metadata": {
    "colab": {
      "provenance": [],
      "authorship_tag": "ABX9TyPdsnbbZRdFXEYWHo3g73LN",
      "include_colab_link": true
    },
    "kernelspec": {
      "name": "python3",
      "display_name": "Python 3"
    },
    "language_info": {
      "name": "python"
    }
  },
  "cells": [
    {
      "cell_type": "markdown",
      "metadata": {
        "id": "view-in-github",
        "colab_type": "text"
      },
      "source": [
        "<a href=\"https://colab.research.google.com/github/viking316/ML/blob/main/final_RandomForestRegressor.ipynb\" target=\"_parent\"><img src=\"https://colab.research.google.com/assets/colab-badge.svg\" alt=\"Open In Colab\"/></a>"
      ]
    },
    {
      "cell_type": "code",
      "execution_count": 1,
      "metadata": {
        "colab": {
          "base_uri": "https://localhost:8080/",
          "height": 514
        },
        "id": "zJf4GK23jDx9",
        "outputId": "8dc2a176-560b-4012-ea2f-f98bc0090838"
      },
      "outputs": [
        {
          "output_type": "stream",
          "name": "stdout",
          "text": [
            "10\n",
            "[[ 1]\n",
            " [ 2]\n",
            " [ 3]\n",
            " [ 4]\n",
            " [ 5]\n",
            " [ 6]\n",
            " [ 7]\n",
            " [ 8]\n",
            " [ 9]\n",
            " [10]]\n",
            "10\n"
          ]
        },
        {
          "output_type": "display_data",
          "data": {
            "text/plain": [
              "<Figure size 432x288 with 1 Axes>"
            ],
            "image/png": "[encoded data removed]"
          },
          "metadata": {
            "needs_background": "light"
          }
        }
      ],
      "source": [
        "from sklearn.ensemble import RandomForestRegressor\n",
        "import numpy as np\n",
        "import pandas as pd\n",
        "import matplotlib.pyplot as plt\n",
        "\n",
        "# Importing the dataset\n",
        "\n",
        "dataset = pd.read_csv(\"Salaries.csv\")\n",
        "X = dataset.iloc[:, 1:-1].values\n",
        "y = dataset.iloc[:, -1].values\n",
        "\n",
        "print(X.size)\n",
        "print(X)\n",
        "print(y.size)\n",
        "# Training Random Forest model on whole dataset\n",
        "\n",
        "reg = RandomForestRegressor(n_estimators=10, random_state=0)\n",
        "reg.fit(X, y)\n",
        "\n",
        "# prediction\n",
        "Y_pred = reg.predict(X)\n",
        "\n",
        "# plotting\n",
        "plt.scatter(X, y, color=\"red\")\n",
        "plt.plot(X, Y_pred, color=\"blue\")\n",
        "\n",
        "plt.xlabel(\"emp Level\")\n",
        "plt.ylabel(\"Salary\")\n",
        "plt.title(\"rfr\")\n",
        "\n",
        "plt.show()"
      ]
    }
  ]
}