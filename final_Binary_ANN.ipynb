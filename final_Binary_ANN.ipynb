{
  "nbformat": 4,
  "nbformat_minor": 0,
  "metadata": {
    "colab": {
      "provenance": [],
      "authorship_tag": "ABX9TyOUKPbLdMfQp2QBBUSeJqdN",
      "include_colab_link": true
    },
    "kernelspec": {
      "name": "python3",
      "display_name": "Python 3"
    },
    "language_info": {
      "name": "python"
    }
  },
  "cells": [
    {
      "cell_type": "markdown",
      "metadata": {
        "id": "view-in-github",
        "colab_type": "text"
      },
      "source": [
        "<a href=\"https://colab.research.google.com/github/viking316/ML/blob/main/final_Binary_ANN.ipynb\" target=\"_parent\"><img src=\"https://colab.research.google.com/assets/colab-badge.svg\" alt=\"Open In Colab\"/></a>"
      ]
    },
    {
      "cell_type": "code",
      "execution_count": 36,
      "metadata": {
        "colab": {
          "base_uri": "https://localhost:8080/"
        },
        "id": "wNaFYFLuI90j",
        "outputId": "204402be-e581-4f17-9115-2f25391fef57"
      },
      "outputs": [
        {
          "output_type": "stream",
          "name": "stdout",
          "text": [
            "Epoch 1/10\n",
            "235/235 [==============================] - 1s 1ms/step - loss: 16522.3887 - accuracy: 0.2153\n",
            "Epoch 2/10\n",
            "235/235 [==============================] - 0s 1ms/step - loss: 4009.7395 - accuracy: 0.3420\n",
            "Epoch 3/10\n",
            "235/235 [==============================] - 0s 1ms/step - loss: 885.9865 - accuracy: 0.5069\n",
            "Epoch 4/10\n",
            "235/235 [==============================] - 0s 1ms/step - loss: 451.5734 - accuracy: 0.5265\n",
            "Epoch 5/10\n",
            "235/235 [==============================] - 0s 1ms/step - loss: 163.0090 - accuracy: 0.5304\n",
            "Epoch 6/10\n",
            "235/235 [==============================] - 0s 1ms/step - loss: 2.5576 - accuracy: 0.7661\n",
            "Epoch 7/10\n",
            "235/235 [==============================] - 0s 1ms/step - loss: 0.5123 - accuracy: 0.7964\n",
            "Epoch 8/10\n",
            "235/235 [==============================] - 0s 1ms/step - loss: 0.5192 - accuracy: 0.7960\n",
            "Epoch 9/10\n",
            "235/235 [==============================] - 0s 1ms/step - loss: 0.5113 - accuracy: 0.7964\n",
            "Epoch 10/10\n",
            "235/235 [==============================] - 0s 1ms/step - loss: 0.5162 - accuracy: 0.7959\n"
          ]
        },
        {
          "output_type": "execute_result",
          "data": {
            "text/plain": [
              "<keras.callbacks.History at 0x7fb99aa7fc70>"
            ]
          },
          "metadata": {},
          "execution_count": 36
        }
      ],
      "source": [
        "import pandas as pd\n",
        "import tensorflow as tf\n",
        "from tensorflow import keras\n",
        "from keras import Sequential\n",
        "from keras.layers import Dense\n",
        "from sklearn.metrics import accuracy_score\n",
        "import numpy as np\n",
        "from sklearn.model_selection import train_test_split\n",
        "\n",
        "\n",
        "ds = pd.read_csv(\"/content/Churn_Modelling.csv\")\n",
        "x = ds.loc[:,[\"Balance\", \"NumOfProducts\", \"EstimatedSalary\"]].values\n",
        "y = ds.loc[:,\"Exited\"].values\n",
        "\n",
        "\n",
        "x_train, x_test, y_train, y_test = train_test_split(x,y)\n",
        "\n",
        "ann = Sequential()\n",
        "ann.add(Dense(units = 3, activation = \"relu\"))\n",
        "ann.add(Dense(units = 3, activation = \"relu\"))\n",
        "ann.add(Dense(units = 1, activation = \"sigmoid\"))\n",
        "\n",
        "ann.compile(optimizer = \"adam\", loss = \"binary_crossentropy\", metrics = [\"accuracy\"])\n",
        "\n",
        "ann.fit(x_train,y_train, batch_size = 32, epochs = 10)\n"
      ]
    },
    {
      "cell_type": "code",
      "source": [],
      "metadata": {
        "colab": {
          "base_uri": "https://localhost:8080/",
          "height": 1000
        },
        "id": "m3CpjFL0Pslj",
        "outputId": "6160e8ac-b215-4ab2-ac73-8efd52aec310"
      },
      "execution_count": 34,
      "outputs": [
        {
          "output_type": "stream",
          "name": "stdout",
          "text": [
            "(7500, 3)\n",
            "(2500, 3)\n",
            "(7500,)\n",
            "(2500,)\n",
            "Epoch 1/10\n",
            "235/235 [==============================] - 1s 1ms/step - loss: 35801.3711 - accuracy: 0.2111\n",
            "Epoch 2/10\n",
            "235/235 [==============================] - 0s 1ms/step - loss: 2904.0847 - accuracy: 0.6148\n",
            "Epoch 3/10\n",
            "235/235 [==============================] - 0s 1ms/step - loss: 801.1981 - accuracy: 0.6607\n",
            "Epoch 4/10\n",
            "235/235 [==============================] - 0s 1ms/step - loss: 47.8967 - accuracy: 0.6715\n",
            "Epoch 5/10\n",
            "235/235 [==============================] - 0s 1ms/step - loss: 10.6284 - accuracy: 0.6856\n",
            "Epoch 6/10\n",
            "235/235 [==============================] - 0s 1ms/step - loss: 16.1517 - accuracy: 0.6748\n",
            "Epoch 7/10\n",
            "235/235 [==============================] - 0s 1ms/step - loss: 9.7199 - accuracy: 0.6763\n",
            "Epoch 8/10\n",
            "235/235 [==============================] - 0s 1ms/step - loss: 12.0489 - accuracy: 0.6767\n",
            "Epoch 9/10\n",
            "235/235 [==============================] - 0s 1ms/step - loss: 13.2419 - accuracy: 0.6699\n",
            "Epoch 10/10\n",
            "235/235 [==============================] - 0s 1ms/step - loss: 14.2152 - accuracy: 0.6795\n",
            "[     0      1 101348]\n"
          ]
        },
        {
          "output_type": "stream",
          "name": "stderr",
          "text": [
            "WARNING:tensorflow:Model was constructed with shape (None, 3) for input KerasTensor(type_spec=TensorSpec(shape=(None, 3), dtype=tf.float32, name='dense_68_input'), name='dense_68_input', description=\"created by layer 'dense_68_input'\"), but it was called on an input with incompatible shape (1,).\n"
          ]
        },
        {
          "output_type": "error",
          "ename": "ValueError",
          "evalue": "ignored",
          "traceback": [
            "\u001b[0;31m---------------------------------------------------------------------------\u001b[0m",
            "\u001b[0;31mValueError\u001b[0m                                Traceback (most recent call last)",
            "\u001b[0;32m<ipython-input-34-a1b8af89fd76>\u001b[0m in \u001b[0;36m<module>\u001b[0;34m\u001b[0m\n\u001b[1;32m     20\u001b[0m \u001b[0;31m# X_t = np.asarray(_t).astype('int32')\u001b[0m\u001b[0;34m\u001b[0m\u001b[0;34m\u001b[0m\u001b[0;34m\u001b[0m\u001b[0m\n\u001b[1;32m     21\u001b[0m \u001b[0mprint\u001b[0m\u001b[0;34m(\u001b[0m\u001b[0mX_t\u001b[0m\u001b[0;34m)\u001b[0m\u001b[0;34m\u001b[0m\u001b[0;34m\u001b[0m\u001b[0m\n\u001b[0;32m---> 22\u001b[0;31m \u001b[0mpred\u001b[0m \u001b[0;34m=\u001b[0m \u001b[0mann\u001b[0m\u001b[0;34m.\u001b[0m\u001b[0mpredict\u001b[0m\u001b[0;34m(\u001b[0m\u001b[0mX_t\u001b[0m\u001b[0;34m,\u001b[0m \u001b[0mY_t\u001b[0m\u001b[0;34m)\u001b[0m\u001b[0;34m\u001b[0m\u001b[0;34m\u001b[0m\u001b[0m\n\u001b[0m",
            "\u001b[0;32m/usr/local/lib/python3.8/dist-packages/keras/utils/traceback_utils.py\u001b[0m in \u001b[0;36merror_handler\u001b[0;34m(*args, **kwargs)\u001b[0m\n\u001b[1;32m     65\u001b[0m     \u001b[0;32mexcept\u001b[0m \u001b[0mException\u001b[0m \u001b[0;32mas\u001b[0m \u001b[0me\u001b[0m\u001b[0;34m:\u001b[0m  \u001b[0;31m# pylint: disable=broad-except\u001b[0m\u001b[0;34m\u001b[0m\u001b[0;34m\u001b[0m\u001b[0m\n\u001b[1;32m     66\u001b[0m       \u001b[0mfiltered_tb\u001b[0m \u001b[0;34m=\u001b[0m \u001b[0m_process_traceback_frames\u001b[0m\u001b[0;34m(\u001b[0m\u001b[0me\u001b[0m\u001b[0;34m.\u001b[0m\u001b[0m__traceback__\u001b[0m\u001b[0;34m)\u001b[0m\u001b[0;34m\u001b[0m\u001b[0;34m\u001b[0m\u001b[0m\n\u001b[0;32m---> 67\u001b[0;31m       \u001b[0;32mraise\u001b[0m \u001b[0me\u001b[0m\u001b[0;34m.\u001b[0m\u001b[0mwith_traceback\u001b[0m\u001b[0;34m(\u001b[0m\u001b[0mfiltered_tb\u001b[0m\u001b[0;34m)\u001b[0m \u001b[0;32mfrom\u001b[0m \u001b[0;32mNone\u001b[0m\u001b[0;34m\u001b[0m\u001b[0;34m\u001b[0m\u001b[0m\n\u001b[0m\u001b[1;32m     68\u001b[0m     \u001b[0;32mfinally\u001b[0m\u001b[0;34m:\u001b[0m\u001b[0;34m\u001b[0m\u001b[0;34m\u001b[0m\u001b[0m\n\u001b[1;32m     69\u001b[0m       \u001b[0;32mdel\u001b[0m \u001b[0mfiltered_tb\u001b[0m\u001b[0;34m\u001b[0m\u001b[0;34m\u001b[0m\u001b[0m\n",
            "\u001b[0;32m/usr/local/lib/python3.8/dist-packages/keras/engine/training.py\u001b[0m in \u001b[0;36mtf__predict_function\u001b[0;34m(iterator)\u001b[0m\n\u001b[1;32m     13\u001b[0m                 \u001b[0;32mtry\u001b[0m\u001b[0;34m:\u001b[0m\u001b[0;34m\u001b[0m\u001b[0;34m\u001b[0m\u001b[0m\n\u001b[1;32m     14\u001b[0m                     \u001b[0mdo_return\u001b[0m \u001b[0;34m=\u001b[0m \u001b[0;32mTrue\u001b[0m\u001b[0;34m\u001b[0m\u001b[0;34m\u001b[0m\u001b[0m\n\u001b[0;32m---> 15\u001b[0;31m                     \u001b[0mretval_\u001b[0m \u001b[0;34m=\u001b[0m \u001b[0mag__\u001b[0m\u001b[0;34m.\u001b[0m\u001b[0mconverted_call\u001b[0m\u001b[0;34m(\u001b[0m\u001b[0mag__\u001b[0m\u001b[0;34m.\u001b[0m\u001b[0mld\u001b[0m\u001b[0;34m(\u001b[0m\u001b[0mstep_function\u001b[0m\u001b[0;34m)\u001b[0m\u001b[0;34m,\u001b[0m \u001b[0;34m(\u001b[0m\u001b[0mag__\u001b[0m\u001b[0;34m.\u001b[0m\u001b[0mld\u001b[0m\u001b[0;34m(\u001b[0m\u001b[0mself\u001b[0m\u001b[0;34m)\u001b[0m\u001b[0;34m,\u001b[0m \u001b[0mag__\u001b[0m\u001b[0;34m.\u001b[0m\u001b[0mld\u001b[0m\u001b[0;34m(\u001b[0m\u001b[0miterator\u001b[0m\u001b[0;34m)\u001b[0m\u001b[0;34m)\u001b[0m\u001b[0;34m,\u001b[0m \u001b[0;32mNone\u001b[0m\u001b[0;34m,\u001b[0m \u001b[0mfscope\u001b[0m\u001b[0;34m)\u001b[0m\u001b[0;34m\u001b[0m\u001b[0;34m\u001b[0m\u001b[0m\n\u001b[0m\u001b[1;32m     16\u001b[0m                 \u001b[0;32mexcept\u001b[0m\u001b[0;34m:\u001b[0m\u001b[0;34m\u001b[0m\u001b[0;34m\u001b[0m\u001b[0m\n\u001b[1;32m     17\u001b[0m                     \u001b[0mdo_return\u001b[0m \u001b[0;34m=\u001b[0m \u001b[0;32mFalse\u001b[0m\u001b[0;34m\u001b[0m\u001b[0;34m\u001b[0m\u001b[0m\n",
            "\u001b[0;31mValueError\u001b[0m: in user code:\n\n    File \"/usr/local/lib/python3.8/dist-packages/keras/engine/training.py\", line 1845, in predict_function  *\n        return step_function(self, iterator)\n    File \"/usr/local/lib/python3.8/dist-packages/keras/engine/training.py\", line 1834, in step_function  **\n        outputs = model.distribute_strategy.run(run_step, args=(data,))\n    File \"/usr/local/lib/python3.8/dist-packages/keras/engine/training.py\", line 1823, in run_step  **\n        outputs = model.predict_step(data)\n    File \"/usr/local/lib/python3.8/dist-packages/keras/engine/training.py\", line 1791, in predict_step\n        return self(x, training=False)\n    File \"/usr/local/lib/python3.8/dist-packages/keras/utils/traceback_utils.py\", line 67, in error_handler\n        raise e.with_traceback(filtered_tb) from None\n    File \"/usr/local/lib/python3.8/dist-packages/keras/engine/input_spec.py\", line 228, in assert_input_compatibility\n        raise ValueError(f'Input {input_index} of layer \"{layer_name}\" '\n\n    ValueError: Exception encountered when calling layer \"sequential_25\" (type Sequential).\n    \n    Input 0 of layer \"dense_68\" is incompatible with the layer: expected min_ndim=2, found ndim=1. Full shape received: (1,)\n    \n    Call arguments received by layer \"sequential_25\" (type Sequential):\n      • inputs=tf.Tensor(shape=(1,), dtype=int32)\n      • training=False\n      • mask=None\n"
          ]
        }
      ]
    }
  ]
}